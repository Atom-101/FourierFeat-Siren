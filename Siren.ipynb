{
 "cells": [
  {
   "cell_type": "markdown",
   "metadata": {},
   "source": [
    "# Loading demo data"
   ]
  },
  {
   "cell_type": "code",
   "execution_count": null,
   "metadata": {},
   "outputs": [],
   "source": [
    "# Image taken from Fourier Feature Network authors' colab demo: https://colab.research.google.com/github/tancik/fourier-feature-networks/blob/master/Demo.ipynb\n",
    "import numpy as np\n",
    "import matplotlib.pyplot as plt\n",
    "from tqdm.notebook import tqdm as tqdm\n",
    "import os, imageio\n",
    "\n",
    "import torch\n",
    "import torch.nn as nn\n",
    "import torch.nn.functional as F\n",
    "import math\n",
    "\n",
    "# Download image, take a square crop from the center\n",
    "image_url = 'https://live.staticflickr.com/7492/15677707699_d9d67acf9d_b.jpg'\n",
    "img = imageio.imread(image_url)[..., :3] / 255.\n",
    "c = [img.shape[0]//2, img.shape[1]//2]\n",
    "r = 256\n",
    "img = img[c[0]-r:c[0]+r, c[1]-r:c[1]+r]\n",
    "\n",
    "plt.imshow(img)\n",
    "plt.show()\n",
    "\n",
    "# Create input pixel coordinates in the unit square\n",
    "coords = np.linspace(0, 1, img.shape[0], endpoint=False)\n",
    "x_test = np.stack(np.meshgrid(coords, coords), -1)\n",
    "test_data = [x_test, img]\n",
    "train_data = [x_test[::2,::2], img[::2,::2]]"
   ]
  },
  {
   "cell_type": "code",
   "execution_count": null,
   "metadata": {},
   "outputs": [],
   "source": [
    "def first_layer_sine_init(m):\n",
    "    with torch.no_grad():\n",
    "        if hasattr(m, 'weight'):\n",
    "            num_input = m.weight.size(-1)\n",
    "            # See paper sec. 3.2, final paragraph, and supplement Sec. 1.5 for discussion of factor 30\n",
    "            m.weight.uniform_(-1 / num_input, 1 / num_input)\n",
    "    return m\n",
    "\n",
    "def sine_init(m):\n",
    "    with torch.no_grad():\n",
    "        if hasattr(m, 'weight'):\n",
    "            num_input = m.weight.size(-1)\n",
    "            # See supplement Sec. 1.5 for discussion of factor 30\n",
    "            m.weight.uniform_(-np.sqrt(6 / num_input) / 30, np.sqrt(6 / num_input) / 30)\n",
    "    return m\n",
    "\n",
    "class Sine(nn.Module):\n",
    "    def __init__(self):\n",
    "        super().__init__()\n",
    "    def forward(self,x):\n",
    "        # See paper sec. 3.2, final paragraph, and supplement Sec. 1.5 for discussion of factor 30\n",
    "        return torch.sin(30 * x)\n",
    "\n",
    "class Siren(nn.Module):\n",
    "    def __init__(self, depth=5, mapping_size=2, hidden_size=256):\n",
    "        super().__init__()\n",
    "        layers = []\n",
    "        layers.append(first_layer_sine_init(nn.Linear(mapping_size,hidden_size)))\n",
    "        layers.append(Sine())\n",
    "        for i in range(depth-2):\n",
    "            layers.append(sine_init(nn.Linear(hidden_size,hidden_size)))\n",
    "            layers.append(Sine())\n",
    "        layers.append(nn.Linear(hidden_size,3))\n",
    "        self.layers = nn.Sequential(*layers)\n",
    "    def forward(self,x,mode=None):\n",
    "        if mode is None:\n",
    "            return torch.sin(30*self.layers(x))\n",
    "        if mode == 'sigmoid':\n",
    "            return torch.sigmoid(self.layers(x))\n",
    "        if mode == 'linear':\n",
    "            return self.layers(x)\n",
    "model = Siren()\n",
    "model(torch.randn(100,2)).shape"
   ]
  },
  {
   "cell_type": "code",
   "execution_count": null,
   "metadata": {},
   "outputs": [],
   "source": [
    "xb,yb = torch.tensor(train_data[0]).reshape(-1,2),torch.tensor(train_data[1]).reshape(-1,3)\n",
    "x_test,y_test = torch.tensor(test_data[0]).reshape(-1,2),torch.tensor(test_data[1]).reshape(-1,3)\n",
    "xb,yb,x_test,y_test = xb.float().cuda(),yb.float().cuda(),x_test.float(),y_test.float()\n",
    "pass"
   ]
  },
  {
   "cell_type": "markdown",
   "metadata": {},
   "source": [
    "# Default siren model"
   ]
  },
  {
   "cell_type": "code",
   "execution_count": null,
   "metadata": {},
   "outputs": [],
   "source": [
    "model = Siren().cuda()\n",
    "opt = torch.optim.Adam(model.parameters(),lr=1e-4)\n",
    "loss = nn.MSELoss()\n",
    "for i in tqdm(range(10000)):\n",
    "    ypred = model(xb,'sigmoid')\n",
    "    l = loss(ypred,yb)\n",
    "    opt.zero_grad()\n",
    "    l.backward()\n",
    "    opt.step()"
   ]
  },
  {
   "cell_type": "code",
   "execution_count": null,
   "metadata": {},
   "outputs": [],
   "source": [
    "model.cpu().eval()\n",
    "with torch.no_grad():\n",
    "    ypreds = model(x_test,'sigmoid')\n",
    "    ypreds = ypreds.reshape(512,512,3)"
   ]
  },
  {
   "cell_type": "code",
   "execution_count": null,
   "metadata": {},
   "outputs": [],
   "source": [
    "plt.imshow(ypreds)"
   ]
  }
 ],
 "metadata": {
  "kernelspec": {
   "display_name": "Python 3",
   "language": "python3",
   "name": "python3"
  },
  "language_info": {
   "codemirror_mode": {
    "name": "ipython",
    "version": 3
   },
   "file_extension": ".py",
   "mimetype": "text/x-python",
   "name": "python",
   "nbconvert_exporter": "python",
   "pygments_lexer": "ipython3",
   "version": "3.7.7"
  }
 },
 "nbformat": 4,
 "nbformat_minor": 2
}
