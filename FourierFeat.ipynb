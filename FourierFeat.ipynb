{
 "cells": [
  {
   "cell_type": "markdown",
   "metadata": {},
   "source": [
    "# Loading demo data"
   ]
  },
  {
   "cell_type": "code",
   "execution_count": null,
   "metadata": {},
   "outputs": [],
   "source": [
    "# Image taken from authors' colab demo: https://colab.research.google.com/github/tancik/fourier-feature-networks/blob/master/Demo.ipynb\n",
    "import numpy as np\n",
    "import matplotlib.pyplot as plt\n",
    "from tqdm.notebook import tqdm as tqdm\n",
    "import os, imageio\n",
    "\n",
    "import torch\n",
    "import torch.nn as nn\n",
    "import torch.nn.functional as F\n",
    "import math\n",
    "\n",
    "# Download image, take a square crop from the center\n",
    "image_url = 'https://live.staticflickr.com/7492/15677707699_d9d67acf9d_b.jpg'\n",
    "img = imageio.imread(image_url)[..., :3] / 255.\n",
    "c = [img.shape[0]//2, img.shape[1]//2]\n",
    "r = 256\n",
    "img = img[c[0]-r:c[0]+r, c[1]-r:c[1]+r]\n",
    "\n",
    "plt.imshow(img)\n",
    "plt.show()\n",
    "\n",
    "# Create input pixel coordinates in the unit square\n",
    "coords = np.linspace(0, 1, img.shape[0], endpoint=False)\n",
    "x_test = np.stack(np.meshgrid(coords, coords), -1)\n",
    "test_data = [x_test, img]\n",
    "train_data = [x_test[::2,::2], img[::2,::2]]"
   ]
  },
  {
   "cell_type": "code",
   "execution_count": null,
   "metadata": {},
   "outputs": [],
   "source": [
    "class MLP(nn.Module):\n",
    "    def __init__(self,depth=4,mapping_size=512,hidden_size=256):\n",
    "        super().__init__()\n",
    "        layers = []\n",
    "        layers.append(nn.Linear(mapping_size,hidden_size))\n",
    "        layers.append(nn.ReLU(inplace=True))\n",
    "        for _ in range(depth-2):\n",
    "            layers.append(nn.Linear(hidden_size,hidden_size))\n",
    "            layers.append(nn.ReLU(inplace=True))\n",
    "        layers.append(nn.Linear(hidden_size,3))\n",
    "        self.layers = nn.Sequential(*layers)\n",
    "    def forward(self,x):\n",
    "        return torch.sigmoid(self.layers(x))"
   ]
  },
  {
   "cell_type": "code",
   "execution_count": null,
   "metadata": {},
   "outputs": [],
   "source": [
    "xb,yb = torch.tensor(train_data[0]).reshape(-1,2),torch.tensor(train_data[1]).reshape(-1,3)\n",
    "x_test,y_test = torch.tensor(test_data[0]).reshape(-1,2),torch.tensor(test_data[1]).reshape(-1,3)\n",
    "xb,yb,x_test,y_test = xb.float().cuda(),yb.float().cuda(),x_test.float(),y_test.float()\n",
    "pass"
   ]
  },
  {
   "cell_type": "markdown",
   "metadata": {},
   "source": [
    "# Original Mapping"
   ]
  },
  {
   "cell_type": "code",
   "execution_count": null,
   "metadata": {},
   "outputs": [],
   "source": [
    "def map_x(x,B):\n",
    "    xp = torch.matmul(2*math.pi*x,B)\n",
    "    return torch.cat([torch.sin(xp),torch.cos(xp)],dim=-1)"
   ]
  },
  {
   "cell_type": "code",
   "execution_count": null,
   "metadata": {},
   "outputs": [],
   "source": [
    "model = MLP().cuda()\n",
    "opt = torch.optim.Adam(model.parameters(),lr=1e-4)\n",
    "loss = nn.MSELoss()\n",
    "B = torch.randn(2,256).cuda() * 10\n",
    "xt = map_x(xb)\n",
    "for i in tqdm(range(2000)):\n",
    "    ypred = model(xt)\n",
    "    l = loss(ypred,yb)\n",
    "    opt.zero_grad()\n",
    "    l.backward()\n",
    "    opt.step()"
   ]
  },
  {
   "cell_type": "code",
   "execution_count": null,
   "metadata": {},
   "outputs": [],
   "source": [
    "# Preds\n",
    "model.cpu().eval()\n",
    "with torch.no_grad():\n",
    "    ypreds = model(map_x(x_test,B.cpu()))\n",
    "    ypreds = ypreds.reshape(512,512,3)"
   ]
  },
  {
   "cell_type": "code",
   "execution_count": null,
   "metadata": {},
   "outputs": [],
   "source": [
    "plt.imshow(ypreds)"
   ]
  },
  {
   "cell_type": "code",
   "execution_count": null,
   "metadata": {},
   "outputs": [],
   "source": [
    "plt.hist(xt[:,0].cpu())"
   ]
  },
  {
   "cell_type": "markdown",
   "metadata": {},
   "source": [
    "# Mapping with only $\\sin(2 \\pi Bv)$"
   ]
  },
  {
   "cell_type": "code",
   "execution_count": null,
   "metadata": {},
   "outputs": [],
   "source": [
    "def map_x(x,B):\n",
    "    xp = torch.matmul(2*math.pi*x,B)\n",
    "    return torch.sin(xp)"
   ]
  },
  {
   "cell_type": "code",
   "execution_count": null,
   "metadata": {},
   "outputs": [],
   "source": [
    "model = MLP(mapping_size=256).cuda()\n",
    "opt = torch.optim.Adam(model.parameters(),lr=1e-4)\n",
    "loss = nn.MSELoss()\n",
    "B = torch.randn(2,256).cuda() * 10\n",
    "xt = map_x(xb,B)\n",
    "for i in tqdm(range(2000)):\n",
    "    ypred = model(xt)\n",
    "    l = loss(ypred,yb)\n",
    "    opt.zero_grad()\n",
    "    l.backward()\n",
    "    opt.step()"
   ]
  },
  {
   "cell_type": "code",
   "execution_count": null,
   "metadata": {},
   "outputs": [],
   "source": [
    "# Preds\n",
    "model.cpu().eval()\n",
    "with torch.no_grad():\n",
    "    ypreds = model(map_x(x_test,B.cpu()))\n",
    "    ypreds = ypreds.reshape(512,512,3)"
   ]
  },
  {
   "cell_type": "code",
   "execution_count": null,
   "metadata": {},
   "outputs": [],
   "source": [
    "plt.imshow(ypreds)"
   ]
  },
  {
   "cell_type": "code",
   "execution_count": null,
   "metadata": {},
   "outputs": [],
   "source": [
    "plt.hist(xt[:,0].cpu())"
   ]
  },
  {
   "cell_type": "markdown",
   "metadata": {},
   "source": [
    "# Only Gaussian"
   ]
  },
  {
   "cell_type": "code",
   "execution_count": null,
   "metadata": {},
   "outputs": [],
   "source": [
    "def map_x(x,B):\n",
    "    xp = torch.matmul(x,B)\n",
    "    return xp"
   ]
  },
  {
   "cell_type": "code",
   "execution_count": null,
   "metadata": {},
   "outputs": [],
   "source": [
    "model = MLP(mapping_size=512).cuda()\n",
    "opt = torch.optim.Adam(model.parameters(),lr=1e-4)\n",
    "loss = nn.MSELoss()\n",
    "B = torch.randn(2,512).cuda() * 10\n",
    "xt = map_x(xb,B)\n",
    "for i in tqdm(range(2000)):\n",
    "    ypred = model(xt)\n",
    "    l = loss(ypred,yb)\n",
    "    opt.zero_grad()\n",
    "    l.backward()\n",
    "    opt.step()"
   ]
  },
  {
   "cell_type": "code",
   "execution_count": null,
   "metadata": {},
   "outputs": [],
   "source": [
    "# Preds\n",
    "model.cpu().eval()\n",
    "with torch.no_grad():\n",
    "    ypreds = model(map_x(x_test,B.cpu()))\n",
    "    ypreds = ypreds.reshape(512,512,3)"
   ]
  },
  {
   "cell_type": "code",
   "execution_count": null,
   "metadata": {},
   "outputs": [],
   "source": [
    "plt.imshow(ypreds)"
   ]
  },
  {
   "cell_type": "code",
   "execution_count": null,
   "metadata": {},
   "outputs": [],
   "source": [
    "plt.hist(xt[:,0].cpu())"
   ]
  }
 ],
 "metadata": {
  "kernelspec": {
   "display_name": "Python 3.7.6 64-bit",
   "language": "python3",
   "name": "python37664bitb86669ec2f0e4f1d987d68de8ce73203"
  },
  "language_info": {
   "codemirror_mode": {
    "name": "ipython",
    "version": 3
   },
   "file_extension": ".py",
   "mimetype": "text/x-python",
   "name": "python",
   "nbconvert_exporter": "python",
   "pygments_lexer": "ipython3",
   "version": "3.7.7-final"
  }
 },
 "nbformat": 4,
 "nbformat_minor": 2
}